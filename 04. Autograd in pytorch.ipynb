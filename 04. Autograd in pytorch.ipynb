{
 "cells": [
  {
   "cell_type": "code",
   "execution_count": 1,
   "id": "961e919c-f256-49d2-a17e-6107be812d5e",
   "metadata": {},
   "outputs": [],
   "source": [
    "# Automatic gradient engine of the troch\n",
    "import torch"
   ]
  },
  {
   "cell_type": "code",
   "execution_count": 2,
   "id": "46f7f3c2-76d1-4657-8678-450aaa6f12a8",
   "metadata": {},
   "outputs": [],
   "source": [
    "x = torch.tensor([2.], requires_grad = True)"
   ]
  },
  {
   "cell_type": "markdown",
   "id": "a4473d0f-47d0-453e-8d90-a4fe3c93c515",
   "metadata": {},
   "source": [
    "### Differentiation of the Function\n",
    "\n",
    "Given the function:\n",
    "\n",
    "$$ \n",
    "y = 4x^2 + 3x + 3\n",
    "$$ \n",
    "\n",
    "$$ \n",
    "frac{dy}{dx} = 8x + 3\n",
    "$$ \n",
    "\n",
    "$$ \n",
    "= 19\n",
    "$$ "
   ]
  },
  {
   "cell_type": "code",
   "execution_count": 3,
   "id": "b4653d6c-e343-489c-be46-55dcdcd7d82d",
   "metadata": {},
   "outputs": [
    {
     "data": {
      "text/plain": [
       "tensor([25.], grad_fn=<AddBackward0>)"
      ]
     },
     "execution_count": 3,
     "metadata": {},
     "output_type": "execute_result"
    }
   ],
   "source": [
    "y = 4*x**2 +3*x +3\n",
    "y"
   ]
  },
  {
   "cell_type": "code",
   "execution_count": 4,
   "id": "f52fe03b-15e2-4ceb-ad6c-60c2e871702c",
   "metadata": {},
   "outputs": [],
   "source": [
    "y.backward() # This calculates the darivative of y with respect to all depend variable in this case x"
   ]
  },
  {
   "cell_type": "code",
   "execution_count": 5,
   "id": "109c5cc7-5177-4b0d-99a6-2cf93576f4ec",
   "metadata": {},
   "outputs": [
    {
     "data": {
      "text/plain": [
       "tensor([19.])"
      ]
     },
     "execution_count": 5,
     "metadata": {},
     "output_type": "execute_result"
    }
   ],
   "source": [
    "x.grad"
   ]
  }
 ],
 "metadata": {
  "kernelspec": {
   "display_name": "Python (myenv)",
   "language": "python",
   "name": "myenv"
  },
  "language_info": {
   "codemirror_mode": {
    "name": "ipython",
    "version": 3
   },
   "file_extension": ".py",
   "mimetype": "text/x-python",
   "name": "python",
   "nbconvert_exporter": "python",
   "pygments_lexer": "ipython3",
   "version": "3.9.13"
  }
 },
 "nbformat": 4,
 "nbformat_minor": 5
}
