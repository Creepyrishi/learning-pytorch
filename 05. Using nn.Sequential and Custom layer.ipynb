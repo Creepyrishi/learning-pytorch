{
 "cells": [
  {
   "cell_type": "code",
   "execution_count": 12,
   "id": "fd8798e2-fa8c-4262-b7ab-b9027d628f0b",
   "metadata": {},
   "outputs": [],
   "source": [
    "import torch\n",
    "from torch.utils.data import DataLoader, TensorDataset\n",
    "from torch import nn\n",
    "import numpy as np"
   ]
  },
  {
   "cell_type": "code",
   "execution_count": 18,
   "id": "7ce75b4c-a442-4f28-b301-1cb4e5949593",
   "metadata": {},
   "outputs": [],
   "source": [
    "torch.manual_seed(1)\n",
    "np.random.seed(1)\n",
    "X = np.random.uniform(-1, 1, (200, 2))\n",
    "y = np.ones(len(X))\n",
    "y[X[:, 0] * X[:, 1] < 0] = 0"
   ]
  },
  {
   "cell_type": "code",
   "execution_count": 21,
   "id": "85263260-2a3f-4579-8c76-4d0af2fdd83c",
   "metadata": {},
   "outputs": [],
   "source": [
    "X_train = torch.tensor(X[:120, :], dtype = torch.float32)\n",
    "y_train = torch.tensor(y[:120], dtype = torch.float32)\n",
    "X_test = torch.tensor(X[120:, :], dtype = torch.float32)\n",
    "y_test = torch.tensor(y[120:], dtype = torch.float32)"
   ]
  },
  {
   "cell_type": "code",
   "execution_count": 22,
   "id": "5facde84-005a-4699-ac91-ff7812d9e414",
   "metadata": {},
   "outputs": [],
   "source": [
    "dataset = TensorDataset(X_train, y_train)\n",
    "batched_ds = DataLoader(dataset, batch_size = 2, shuffle = True)"
   ]
  },
  {
   "cell_type": "code",
   "execution_count": 5,
   "id": "88a3573e-ec20-4427-862c-56b44ac54037",
   "metadata": {},
   "outputs": [],
   "source": [
    "model = nn.Sequential(\n",
    "    nn.Linear(2, 4),\n",
    "    nn.ReLU(),\n",
    "    nn.Linear(4,4),\n",
    "    nn.ReLU(),\n",
    "    nn.Linear(4,1),\n",
    "    nn.Sigmoid()\n",
    ")"
   ]
  },
  {
   "cell_type": "code",
   "execution_count": 10,
   "id": "f75794a6-8b1b-4d9a-8050-6cfb3191138f",
   "metadata": {},
   "outputs": [],
   "source": [
    "loss_fm = nn.BCELoss()\n",
    "optimizer_fn = torch.optim.SGD(model.parameters(), lr= 0.015)"
   ]
  },
  {
   "cell_type": "code",
   "execution_count": 64,
   "id": "889c3028-5a91-4665-aa5d-7daf84add684",
   "metadata": {},
   "outputs": [],
   "source": [
    " def accuracy(y_pred, y_true):\n",
    "    y_pred_labels = (y_pred > 0.5).float() \n",
    "    acc = (y_pred_labels == y_true).float().mean()\n",
    "    return acc.item()\n"
   ]
  },
  {
   "cell_type": "code",
   "execution_count": 70,
   "id": "c6293d7f-a4f0-4621-b9cd-a3a084d2e512",
   "metadata": {},
   "outputs": [
    {
     "name": "stdout",
     "output_type": "stream",
     "text": [
      "Loss: 0.11651235818862915Accuarcy: 0.9375\n",
      "Loss: 0.11885319650173187Accuarcy: 0.9624999761581421\n",
      "Loss: 0.09500999748706818Accuarcy: 0.9624999761581421\n",
      "Loss: 0.09381357580423355Accuarcy: 0.9624999761581421\n",
      "Loss: 0.08534128963947296Accuarcy: 0.9624999761581421\n",
      "Loss: 0.08094574511051178Accuarcy: 0.949999988079071\n",
      "Loss: 0.08201364427804947Accuarcy: 0.9750000238418579\n",
      "Loss: 0.08546105772256851Accuarcy: 0.9624999761581421\n",
      "Loss: 0.0769396424293518Accuarcy: 0.9624999761581421\n",
      "Loss: 0.07980624586343765Accuarcy: 0.9624999761581421\n",
      "Loss: 0.07690055668354034Accuarcy: 0.9624999761581421\n",
      "Loss: 0.07446323335170746Accuarcy: 0.9624999761581421\n",
      "Loss: 0.08403077721595764Accuarcy: 0.9624999761581421\n",
      "Loss: 0.07783953845500946Accuarcy: 0.9624999761581421\n",
      "Loss: 0.08197220414876938Accuarcy: 0.9624999761581421\n",
      "Loss: 0.07647420465946198Accuarcy: 0.9624999761581421\n",
      "Loss: 0.07199249416589737Accuarcy: 0.9750000238418579\n",
      "Loss: 0.07668360322713852Accuarcy: 0.9624999761581421\n",
      "Loss: 0.08468383550643921Accuarcy: 0.9624999761581421\n",
      "Loss: 0.0793038159608841Accuarcy: 0.9624999761581421\n"
     ]
    }
   ],
   "source": [
    "def train(epochs, batches,  x_valid, y_valid):\n",
    "\n",
    "    for epoch in range(epochs):\n",
    "        for X_batch, y_batch in batches:\n",
    "            pred = model(X_batch)[:, 0]\n",
    "            loss = loss_fm(pred, y_batch)\n",
    "            loss.backward()\n",
    "            optimizer.step()\n",
    "            optimizer.zero_grad()\n",
    "\n",
    "        pred = model(x_valid)[:, 0]\n",
    "        loss = loss_fm(pred, y_valid)\n",
    "        if epoch % 5 == 0:\n",
    "            print(\"Loss: \" + str(loss.item()) + \"Accuarcy: \" + str(accuracy(pred, y_valid)))\n",
    "        \n",
    "train(100, batched_ds, X_test, y_test)"
   ]
  }
 ],
 "metadata": {
  "kernelspec": {
   "display_name": "Python (myenv)",
   "language": "python",
   "name": "myenv"
  },
  "language_info": {
   "codemirror_mode": {
    "name": "ipython",
    "version": 3
   },
   "file_extension": ".py",
   "mimetype": "text/x-python",
   "name": "python",
   "nbconvert_exporter": "python",
   "pygments_lexer": "ipython3",
   "version": "3.9.13"
  }
 },
 "nbformat": 4,
 "nbformat_minor": 5
}
