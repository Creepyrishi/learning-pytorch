{
 "cells": [
  {
   "cell_type": "markdown",
   "id": "3b7210d2",
   "metadata": {},
   "source": [
    "## Loading Dataset in Batches"
   ]
  },
  {
   "cell_type": "code",
   "execution_count": null,
   "id": "87d71537-d7f8-4d41-9194-28566e379681",
   "metadata": {},
   "outputs": [],
   "source": [
    "import torch"
   ]
  },
  {
   "cell_type": "code",
   "execution_count": 8,
   "id": "79039ae5-6ce5-438b-9cc0-8b2c5089938f",
   "metadata": {},
   "outputs": [
    {
     "name": "stdout",
     "output_type": "stream",
     "text": [
      "tensor([[0.6116, 0.5117, 0.5136],\n",
      "        [0.2954, 0.8412, 0.4780],\n",
      "        [0.7043, 0.4535, 0.3383],\n",
      "        [0.5575, 0.9692, 0.1305],\n",
      "        [0.2817, 0.1753, 0.0334],\n",
      "        [0.1222, 0.3172, 0.3533],\n",
      "        [0.4115, 0.2379, 0.9073],\n",
      "        [0.4710, 0.0060, 0.1345],\n",
      "        [0.8155, 0.1687, 0.1588],\n",
      "        [0.5361, 0.4842, 0.7634]])\n"
     ]
    }
   ],
   "source": [
    "# Creating a tensor\n",
    "a = torch.rand((10,3))\n",
    "print(a)"
   ]
  },
  {
   "cell_type": "code",
   "execution_count": 10,
   "id": "1ce659bd-e49b-45cc-b6e7-ef27ed65a96f",
   "metadata": {},
   "outputs": [],
   "source": [
    "from torch.utils.data import DataLoader"
   ]
  },
  {
   "cell_type": "code",
   "execution_count": 13,
   "id": "681db083-ffc2-4a18-8cf4-23a2e3c3f431",
   "metadata": {},
   "outputs": [
    {
     "name": "stdout",
     "output_type": "stream",
     "text": [
      "1) tensor([[0.6116, 0.5117, 0.5136],\n",
      "        [0.2954, 0.8412, 0.4780],\n",
      "        [0.7043, 0.4535, 0.3383]])\n",
      "1) tensor([[0.5575, 0.9692, 0.1305],\n",
      "        [0.2817, 0.1753, 0.0334],\n",
      "        [0.1222, 0.3172, 0.3533]])\n",
      "1) tensor([[0.4115, 0.2379, 0.9073],\n",
      "        [0.4710, 0.0060, 0.1345],\n",
      "        [0.8155, 0.1687, 0.1588]])\n",
      "1) tensor([[0.5361, 0.4842, 0.7634]])\n"
     ]
    }
   ],
   "source": [
    "data = DataLoader(a, batch_size=3)\n",
    "\"\"\"\n",
    "This loads the whole dataset but in small chunks that can be used as mini-batches\n",
    "\"\"\"\n",
    "for i, data in enumerate(data):\n",
    "    print(f\"{1}) {data}\")"
   ]
  },
  {
   "cell_type": "markdown",
   "id": "6c0d146b",
   "metadata": {},
   "source": [
    "## Creating a custom inheritance of pytorch of Dataset"
   ]
  },
  {
   "cell_type": "code",
   "execution_count": 19,
   "id": "daf34507-2ecf-46b8-840f-6c4e9f6b7028",
   "metadata": {},
   "outputs": [],
   "source": [
    "# Joining 2 data set\n",
    "# We need to create a custom joinDataset class that inheritate Dataset\n",
    "\n",
    "from torch.utils.data import Dataset\n",
    "\n",
    "class joinDataset(Dataset):\n",
    "    \"\"\"\n",
    "    When we Create inheritance of Dataset class we need to have these 3 compulsory methods:\n",
    "    1. __init__\n",
    "    2. __len__\n",
    "    3. __getitem__\n",
    "    \"\"\"\n",
    "    def __init__(self, x, y):\n",
    "        self.x = x\n",
    "        self.y = y\n",
    "\n",
    "    def __len__(self):\n",
    "        return len(self.x)\n",
    "\n",
    "    def __getitem__(self, idx):\n",
    "        return self.x[idx], self.y[idx]"
   ]
  },
  {
   "cell_type": "code",
   "execution_count": 29,
   "id": "84272d1e-c3b3-49af-8f10-4d3f032ba7e7",
   "metadata": {},
   "outputs": [],
   "source": [
    "# creating datasets or tensors to join\n",
    "d1 = torch.zeros((2,3)) # think this is feature dataset\n",
    "d2 = torch.zeros((2)) # and this is target dataset\n",
    "\n",
    "dataset = joinDataset(d1, d2)"
   ]
  },
  {
   "cell_type": "code",
   "execution_count": 30,
   "id": "26756bd6-623e-44e0-8bfd-11d18346c00b",
   "metadata": {},
   "outputs": [
    {
     "name": "stdout",
     "output_type": "stream",
     "text": [
      "(tensor([0., 0., 0.]), tensor(0.))\n",
      "(tensor([0., 0., 0.]), tensor(0.))\n"
     ]
    }
   ],
   "source": [
    "for i in dataset:\n",
    "    print(i)"
   ]
  }
 ],
 "metadata": {
  "kernelspec": {
   "display_name": "Python (myenv)",
   "language": "python",
   "name": "myenv"
  },
  "language_info": {
   "codemirror_mode": {
    "name": "ipython",
    "version": 3
   },
   "file_extension": ".py",
   "mimetype": "text/x-python",
   "name": "python",
   "nbconvert_exporter": "python",
   "pygments_lexer": "ipython3",
   "version": "3.9.13"
  }
 },
 "nbformat": 4,
 "nbformat_minor": 5
}
